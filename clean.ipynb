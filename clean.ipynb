{
 "cells": [
  {
   "cell_type": "code",
   "execution_count": 1,
   "metadata": {},
   "outputs": [],
   "source": [
    "#import pandas library\n",
    "import pandas as pd"
   ]
  },
  {
   "cell_type": "code",
   "execution_count": 2,
   "metadata": {},
   "outputs": [
    {
     "data": {
      "text/html": [
       "<div>\n",
       "<style scoped>\n",
       "    .dataframe tbody tr th:only-of-type {\n",
       "        vertical-align: middle;\n",
       "    }\n",
       "\n",
       "    .dataframe tbody tr th {\n",
       "        vertical-align: top;\n",
       "    }\n",
       "\n",
       "    .dataframe thead th {\n",
       "        text-align: right;\n",
       "    }\n",
       "</style>\n",
       "<table border=\"1\" class=\"dataframe\">\n",
       "  <thead>\n",
       "    <tr style=\"text-align: right;\">\n",
       "      <th></th>\n",
       "      <th>sales_id</th>\n",
       "      <th>retailer</th>\n",
       "      <th>retailer_id</th>\n",
       "      <th>invoice_date</th>\n",
       "      <th>region</th>\n",
       "      <th>state</th>\n",
       "      <th>city</th>\n",
       "      <th>product</th>\n",
       "      <th>price_per_unit</th>\n",
       "      <th>units_sold</th>\n",
       "      <th>total_sales</th>\n",
       "      <th>operating_profit</th>\n",
       "      <th>sales_method</th>\n",
       "    </tr>\n",
       "  </thead>\n",
       "  <tbody>\n",
       "    <tr>\n",
       "      <th>0</th>\n",
       "      <td>1</td>\n",
       "      <td>Foot Locker</td>\n",
       "      <td>1185732</td>\n",
       "      <td>2021-11-06</td>\n",
       "      <td>Southeast</td>\n",
       "      <td>South Carolina</td>\n",
       "      <td>Charleston</td>\n",
       "      <td>Men's Street Footwear</td>\n",
       "      <td>50</td>\n",
       "      <td>278</td>\n",
       "      <td>13900</td>\n",
       "      <td>792</td>\n",
       "      <td>Online</td>\n",
       "    </tr>\n",
       "    <tr>\n",
       "      <th>1</th>\n",
       "      <td>2</td>\n",
       "      <td>Foot Locker</td>\n",
       "      <td>1185732</td>\n",
       "      <td>2020-03-14</td>\n",
       "      <td>Northeast</td>\n",
       "      <td>New York</td>\n",
       "      <td>New York</td>\n",
       "      <td>Men's Apparel</td>\n",
       "      <td>46</td>\n",
       "      <td>278</td>\n",
       "      <td>12788</td>\n",
       "      <td>435</td>\n",
       "      <td>Outlet</td>\n",
       "    </tr>\n",
       "    <tr>\n",
       "      <th>2</th>\n",
       "      <td>3</td>\n",
       "      <td>West Gear</td>\n",
       "      <td>1128299</td>\n",
       "      <td>2021-01-19</td>\n",
       "      <td>West</td>\n",
       "      <td>California</td>\n",
       "      <td>San Francisco</td>\n",
       "      <td>Men's Athletic Footwear</td>\n",
       "      <td>47</td>\n",
       "      <td>278</td>\n",
       "      <td>13066</td>\n",
       "      <td>287</td>\n",
       "      <td>Outlet</td>\n",
       "    </tr>\n",
       "    <tr>\n",
       "      <th>3</th>\n",
       "      <td>4</td>\n",
       "      <td>Walmart</td>\n",
       "      <td>1128299</td>\n",
       "      <td>2021-06-17</td>\n",
       "      <td>Southeast</td>\n",
       "      <td>Florida</td>\n",
       "      <td>Orlando</td>\n",
       "      <td>Women's Apparel</td>\n",
       "      <td>103</td>\n",
       "      <td>218</td>\n",
       "      <td>22454</td>\n",
       "      <td>1257</td>\n",
       "      <td>Online</td>\n",
       "    </tr>\n",
       "    <tr>\n",
       "      <th>4</th>\n",
       "      <td>5</td>\n",
       "      <td>Sports Direct</td>\n",
       "      <td>1197831</td>\n",
       "      <td>2021-09-14</td>\n",
       "      <td>South</td>\n",
       "      <td>Alabama</td>\n",
       "      <td>Birmingham</td>\n",
       "      <td>Women's Street Footwear</td>\n",
       "      <td>36</td>\n",
       "      <td>278</td>\n",
       "      <td>10008</td>\n",
       "      <td>530</td>\n",
       "      <td>Outlet</td>\n",
       "    </tr>\n",
       "  </tbody>\n",
       "</table>\n",
       "</div>"
      ],
      "text/plain": [
       "   sales_id       retailer  retailer_id invoice_date     region  \\\n",
       "0         1    Foot Locker      1185732   2021-11-06  Southeast   \n",
       "1         2    Foot Locker      1185732   2020-03-14  Northeast   \n",
       "2         3      West Gear      1128299   2021-01-19       West   \n",
       "3         4        Walmart      1128299   2021-06-17  Southeast   \n",
       "4         5  Sports Direct      1197831   2021-09-14      South   \n",
       "\n",
       "            state           city                  product  price_per_unit  \\\n",
       "0  South Carolina     Charleston    Men's Street Footwear              50   \n",
       "1        New York       New York            Men's Apparel              46   \n",
       "2      California  San Francisco  Men's Athletic Footwear              47   \n",
       "3         Florida        Orlando          Women's Apparel             103   \n",
       "4         Alabama     Birmingham  Women's Street Footwear              36   \n",
       "\n",
       "   units_sold  total_sales  operating_profit sales_method  \n",
       "0         278        13900               792       Online  \n",
       "1         278        12788               435       Outlet  \n",
       "2         278        13066               287       Outlet  \n",
       "3         218        22454              1257       Online  \n",
       "4         278        10008               530       Outlet  "
      ]
     },
     "execution_count": 2,
     "metadata": {},
     "output_type": "execute_result"
    }
   ],
   "source": [
    "#import csv\n",
    "adidas = pd.read_csv('Adidas US Sales.csv')\n",
    "adidas.head()"
   ]
  },
  {
   "cell_type": "code",
   "execution_count": 3,
   "metadata": {},
   "outputs": [
    {
     "data": {
      "text/plain": [
       "(9637, 13)"
      ]
     },
     "execution_count": 3,
     "metadata": {},
     "output_type": "execute_result"
    }
   ],
   "source": [
    "#check dataset dimension\n",
    "adidas.shape"
   ]
  },
  {
   "cell_type": "code",
   "execution_count": 4,
   "metadata": {},
   "outputs": [
    {
     "name": "stdout",
     "output_type": "stream",
     "text": [
      "<class 'pandas.core.frame.DataFrame'>\n",
      "RangeIndex: 9637 entries, 0 to 9636\n",
      "Data columns (total 13 columns):\n",
      " #   Column            Non-Null Count  Dtype \n",
      "---  ------            --------------  ----- \n",
      " 0   sales_id          9637 non-null   int64 \n",
      " 1   retailer          9637 non-null   object\n",
      " 2   retailer_id       9637 non-null   int64 \n",
      " 3   invoice_date      9637 non-null   object\n",
      " 4   region            9637 non-null   object\n",
      " 5   state             9637 non-null   object\n",
      " 6   city              9637 non-null   object\n",
      " 7   product           9637 non-null   object\n",
      " 8   price_per_unit    9637 non-null   int64 \n",
      " 9   units_sold        9637 non-null   int64 \n",
      " 10  total_sales       9637 non-null   int64 \n",
      " 11  operating_profit  9637 non-null   int64 \n",
      " 12  sales_method      9637 non-null   object\n",
      "dtypes: int64(6), object(7)\n",
      "memory usage: 978.9+ KB\n"
     ]
    }
   ],
   "source": [
    "#inspect structure of dataset\n",
    "adidas.info()"
   ]
  },
  {
   "cell_type": "code",
   "execution_count": 5,
   "metadata": {},
   "outputs": [
    {
     "data": {
      "text/plain": [
       "Index(['sales_id', 'retailer', 'retailer_id', 'invoice_date', 'region',\n",
       "       'state', 'city', 'product', 'price_per_unit', 'units_sold',\n",
       "       'total_sales', 'operating_profit', 'sales_method'],\n",
       "      dtype='object')"
      ]
     },
     "execution_count": 5,
     "metadata": {},
     "output_type": "execute_result"
    }
   ],
   "source": [
    "#inspect column name\n",
    "adidas.columns"
   ]
  },
  {
   "cell_type": "code",
   "execution_count": 6,
   "metadata": {},
   "outputs": [
    {
     "data": {
      "text/plain": [
       "Index(['retailer', 'invoice_date', 'region', 'state', 'product',\n",
       "       'price_per_unit', 'units_sold', 'total_sales'],\n",
       "      dtype='object')"
      ]
     },
     "execution_count": 6,
     "metadata": {},
     "output_type": "execute_result"
    }
   ],
   "source": [
    "#drop irrelevant colummn\n",
    "adidas.drop(['sales_id','retailer_id', 'sales_method', 'city', 'operating_profit'], axis= 1, inplace= True)\n",
    "adidas.columns"
   ]
  },
  {
   "cell_type": "code",
   "execution_count": 8,
   "metadata": {},
   "outputs": [
    {
     "data": {
      "text/plain": [
       "retailer          0\n",
       "invoice_date      0\n",
       "region            0\n",
       "state             0\n",
       "product           0\n",
       "price_per_unit    0\n",
       "units_sold        0\n",
       "total_sales       0\n",
       "dtype: int64"
      ]
     },
     "execution_count": 8,
     "metadata": {},
     "output_type": "execute_result"
    }
   ],
   "source": [
    "#check for null in dataset\n",
    "adidas.isnull().sum()"
   ]
  },
  {
   "cell_type": "code",
   "execution_count": 12,
   "metadata": {},
   "outputs": [
    {
     "data": {
      "text/plain": [
       "0"
      ]
     },
     "execution_count": 12,
     "metadata": {},
     "output_type": "execute_result"
    }
   ],
   "source": [
    "#check duplicate value in dataset\n",
    "adidas.duplicated().sum()"
   ]
  },
  {
   "cell_type": "code",
   "execution_count": 13,
   "metadata": {},
   "outputs": [],
   "source": [
    "#convert clean dataset to csv \n",
    "\n",
    "adidas.to_csv('Adidas US Sales2.csv', index=False)"
   ]
  },
  {
   "cell_type": "code",
   "execution_count": 15,
   "metadata": {},
   "outputs": [
    {
     "data": {
      "text/html": [
       "<div>\n",
       "<style scoped>\n",
       "    .dataframe tbody tr th:only-of-type {\n",
       "        vertical-align: middle;\n",
       "    }\n",
       "\n",
       "    .dataframe tbody tr th {\n",
       "        vertical-align: top;\n",
       "    }\n",
       "\n",
       "    .dataframe thead th {\n",
       "        text-align: right;\n",
       "    }\n",
       "</style>\n",
       "<table border=\"1\" class=\"dataframe\">\n",
       "  <thead>\n",
       "    <tr style=\"text-align: right;\">\n",
       "      <th></th>\n",
       "      <th>retailer</th>\n",
       "      <th>invoice_date</th>\n",
       "      <th>region</th>\n",
       "      <th>state</th>\n",
       "      <th>product</th>\n",
       "      <th>price_per_unit</th>\n",
       "      <th>units_sold</th>\n",
       "      <th>total_sales</th>\n",
       "    </tr>\n",
       "  </thead>\n",
       "  <tbody>\n",
       "    <tr>\n",
       "      <th>0</th>\n",
       "      <td>Foot Locker</td>\n",
       "      <td>2021-11-06</td>\n",
       "      <td>Southeast</td>\n",
       "      <td>South Carolina</td>\n",
       "      <td>Men's Street Footwear</td>\n",
       "      <td>50</td>\n",
       "      <td>278</td>\n",
       "      <td>13900</td>\n",
       "    </tr>\n",
       "    <tr>\n",
       "      <th>1</th>\n",
       "      <td>Foot Locker</td>\n",
       "      <td>2020-03-14</td>\n",
       "      <td>Northeast</td>\n",
       "      <td>New York</td>\n",
       "      <td>Men's Apparel</td>\n",
       "      <td>46</td>\n",
       "      <td>278</td>\n",
       "      <td>12788</td>\n",
       "    </tr>\n",
       "    <tr>\n",
       "      <th>2</th>\n",
       "      <td>West Gear</td>\n",
       "      <td>2021-01-19</td>\n",
       "      <td>West</td>\n",
       "      <td>California</td>\n",
       "      <td>Men's Athletic Footwear</td>\n",
       "      <td>47</td>\n",
       "      <td>278</td>\n",
       "      <td>13066</td>\n",
       "    </tr>\n",
       "    <tr>\n",
       "      <th>3</th>\n",
       "      <td>Walmart</td>\n",
       "      <td>2021-06-17</td>\n",
       "      <td>Southeast</td>\n",
       "      <td>Florida</td>\n",
       "      <td>Women's Apparel</td>\n",
       "      <td>103</td>\n",
       "      <td>218</td>\n",
       "      <td>22454</td>\n",
       "    </tr>\n",
       "    <tr>\n",
       "      <th>4</th>\n",
       "      <td>Sports Direct</td>\n",
       "      <td>2021-09-14</td>\n",
       "      <td>South</td>\n",
       "      <td>Alabama</td>\n",
       "      <td>Women's Street Footwear</td>\n",
       "      <td>36</td>\n",
       "      <td>278</td>\n",
       "      <td>10008</td>\n",
       "    </tr>\n",
       "  </tbody>\n",
       "</table>\n",
       "</div>"
      ],
      "text/plain": [
       "        retailer invoice_date     region           state  \\\n",
       "0    Foot Locker   2021-11-06  Southeast  South Carolina   \n",
       "1    Foot Locker   2020-03-14  Northeast        New York   \n",
       "2      West Gear   2021-01-19       West      California   \n",
       "3        Walmart   2021-06-17  Southeast         Florida   \n",
       "4  Sports Direct   2021-09-14      South         Alabama   \n",
       "\n",
       "                   product  price_per_unit  units_sold  total_sales  \n",
       "0    Men's Street Footwear              50         278        13900  \n",
       "1            Men's Apparel              46         278        12788  \n",
       "2  Men's Athletic Footwear              47         278        13066  \n",
       "3          Women's Apparel             103         218        22454  \n",
       "4  Women's Street Footwear              36         278        10008  "
      ]
     },
     "execution_count": 15,
     "metadata": {},
     "output_type": "execute_result"
    }
   ],
   "source": [
    "adidas.head()"
   ]
  }
 ],
 "metadata": {
  "kernelspec": {
   "display_name": "base",
   "language": "python",
   "name": "python3"
  },
  "language_info": {
   "codemirror_mode": {
    "name": "ipython",
    "version": 3
   },
   "file_extension": ".py",
   "mimetype": "text/x-python",
   "name": "python",
   "nbconvert_exporter": "python",
   "pygments_lexer": "ipython3",
   "version": "3.11.7"
  }
 },
 "nbformat": 4,
 "nbformat_minor": 2
}
